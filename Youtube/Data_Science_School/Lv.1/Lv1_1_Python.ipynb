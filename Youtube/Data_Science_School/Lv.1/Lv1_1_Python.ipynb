{
 "cells": [
  {
   "cell_type": "markdown",
   "id": "f1f08deb-7987-4588-be09-0aa83287c9ae",
   "metadata": {},
   "source": [
    "### https://www.youtube.com/@nishimaki\n",
    "### https://pystyle.info/jupyterlab-keyboard-shortcuts/"
   ]
  },
  {
   "cell_type": "markdown",
   "id": "4dd60e15-1a01-47f2-b589-e732dd6f614c",
   "metadata": {},
   "source": [
    "# 1.Print分/コメント"
   ]
  },
  {
   "cell_type": "code",
   "execution_count": 4,
   "id": "743e579a-c744-4f09-98f8-83c0cc7f170c",
   "metadata": {},
   "outputs": [
    {
     "name": "stdout",
     "output_type": "stream",
     "text": [
      "こんにちは\n"
     ]
    }
   ],
   "source": [
    "#「こんにちは」と表示させる処理\n",
    "print(\"こんにちは\")"
   ]
  },
  {
   "cell_type": "markdown",
   "id": "db76ca2d-3c29-4e63-a4d8-e0f060f5cc69",
   "metadata": {},
   "source": [
    "# 2.変数/データ型\n"
   ]
  },
  {
   "cell_type": "code",
   "execution_count": 6,
   "id": "594384c8-52cd-4bc3-872a-247d12d5fcb0",
   "metadata": {},
   "outputs": [
    {
     "name": "stdout",
     "output_type": "stream",
     "text": [
      "こんにちは\n",
      "こんばんわ\n"
     ]
    }
   ],
   "source": [
    "a = \"こんにちは\"\n",
    "b = \"こんばんわ\"\n",
    "c = 5\n",
    "d = 1.2345\n",
    "print(a)\n",
    "print(b)"
   ]
  },
  {
   "cell_type": "markdown",
   "id": "1438b19b-7b85-4a5f-9c15-3a2b42bf4484",
   "metadata": {},
   "source": [
    "# 3.数値型の基本操作"
   ]
  },
  {
   "cell_type": "code",
   "execution_count": 7,
   "id": "7202caf9-a005-46bf-bf93-ae946399a3ab",
   "metadata": {},
   "outputs": [
    {
     "name": "stdout",
     "output_type": "stream",
     "text": [
      "240219000\n"
     ]
    }
   ],
   "source": [
    "x = 123\n",
    "print(x*(x+1)*(x+2)*(x+3))"
   ]
  },
  {
   "cell_type": "markdown",
   "id": "9e2ee308-46d1-4450-bc5e-3a0d0a7f5afa",
   "metadata": {},
   "source": [
    "# 4.文字列型の基本操作"
   ]
  },
  {
   "cell_type": "code",
   "execution_count": null,
   "id": "786a0558-c771-4a8b-acc3-f823868bdaf9",
   "metadata": {},
   "outputs": [
    {
     "data": {
      "text/plain": [
       "'I have a pen. I have an apple.'"
      ]
     },
     "execution_count": 8,
     "metadata": {},
     "output_type": "execute_result"
    }
   ],
   "source": [
    "bunsho = \"I have a pen.\"\n",
    "bunsho2 = \"I have an apple.\"\n",
    " \n",
    "bunsho + \" \" + bunsho2"
   ]
  },
  {
   "cell_type": "markdown",
   "id": "919f8db4-9f54-469b-82ea-e0b2bf5e7c66",
   "metadata": {},
   "source": [
    "# 5.if文\n"
   ]
  },
  {
   "cell_type": "code",
   "execution_count": 9,
   "id": "1bdd25fb-74b7-46a4-a39b-0b515044bc50",
   "metadata": {},
   "outputs": [
    {
     "name": "stdout",
     "output_type": "stream",
     "text": [
      "条件を満たしません！！！\n"
     ]
    }
   ],
   "source": [
    "a = 19\n",
    " \n",
    "if (a >= 20) | (a % 3 == 0):\n",
    "    print(\"20以上もしくは3の倍数です！！！\")\n",
    "else:\n",
    "    print(\"条件を満たしません！！！\")"
   ]
  },
  {
   "cell_type": "markdown",
   "id": "06424f50-4ad1-4e4a-ac2b-9686ed02a44d",
   "metadata": {},
   "source": [
    "# 6.for文"
   ]
  },
  {
   "cell_type": "code",
   "execution_count": 10,
   "id": "cea8b0f3-edd2-41ca-bb6e-ddf5a36da93b",
   "metadata": {},
   "outputs": [
    {
     "name": "stdout",
     "output_type": "stream",
     "text": [
      "0\n",
      "1\n",
      "4\n",
      "9\n",
      "16\n",
      "25\n",
      "36\n",
      "49\n",
      "64\n",
      "81\n"
     ]
    }
   ],
   "source": [
    "for i in range(10):\n",
    "    print(i**2)"
   ]
  },
  {
   "cell_type": "markdown",
   "id": "e382c7b6-dadb-40b1-a5dc-174478957fbb",
   "metadata": {},
   "source": [
    "# 7.while文"
   ]
  },
  {
   "cell_type": "code",
   "execution_count": 11,
   "id": "ae6f9c1c-9e54-45dc-a05f-612602032aba",
   "metadata": {},
   "outputs": [
    {
     "name": "stdout",
     "output_type": "stream",
     "text": [
      "447\n",
      "100128\n"
     ]
    }
   ],
   "source": [
    "number = 0\n",
    "i = 0\n",
    " \n",
    "while number < 100000:\n",
    "    i += 1\n",
    "    number += i\n",
    " \n",
    "print(i)\n",
    "print(number)"
   ]
  },
  {
   "cell_type": "markdown",
   "id": "914e90e9-8321-4111-8dc9-8224cc56b7b7",
   "metadata": {},
   "source": [
    "# 8.リスト/タプル/辞書"
   ]
  },
  {
   "cell_type": "code",
   "execution_count": 12,
   "id": "f870efca-88b7-4185-8f7b-507bb9575a03",
   "metadata": {},
   "outputs": [
    {
     "name": "stdout",
     "output_type": "stream",
     "text": [
      "入ってない！\n"
     ]
    }
   ],
   "source": [
    "a = [4,6,1,5,3,4,6,8,4,1]\n",
    " \n",
    "if 10 in a:\n",
    "    print(\"入ってる！\")\n",
    "else:\n",
    "    print(\"入ってない！\")"
   ]
  },
  {
   "cell_type": "markdown",
   "id": "a8b1e3eb-d1a1-40a9-942b-69b693cf6c82",
   "metadata": {},
   "source": [
    "# 9.関数"
   ]
  },
  {
   "cell_type": "code",
   "execution_count": 14,
   "id": "adb25cd4-fe9f-49b3-9517-b111aa314061",
   "metadata": {},
   "outputs": [
    {
     "data": {
      "text/plain": [
       "(42636, 113)"
      ]
     },
     "execution_count": 14,
     "metadata": {},
     "output_type": "execute_result"
    }
   ],
   "source": [
    "def calc(a,b,c):\n",
    "    x = a*b*c\n",
    "    y = a+b+c\n",
    "    return x,y\n",
    " \n",
    "calc(34,22,57)\n"
   ]
  },
  {
   "cell_type": "markdown",
   "id": "ad486f74-d292-48c9-b485-21a689fe500a",
   "metadata": {},
   "source": [
    "# クラス/インスタンス"
   ]
  },
  {
   "cell_type": "code",
   "execution_count": 16,
   "id": "d16f0e91-49f8-4dad-8c9a-f96146859cf6",
   "metadata": {},
   "outputs": [],
   "source": [
    "class CharaData():\n",
    "    def __init__(self):\n",
    "        self.name = \"\"\n",
    "        self.attack = 0\n",
    "        self.guard = 0\n",
    "        \n",
    "    def power(self):\n",
    "        print(self.attack + self.guard)"
   ]
  },
  {
   "cell_type": "code",
   "execution_count": 17,
   "id": "3fdd7ef7-7910-4cdb-9fb4-14f0dbbe1098",
   "metadata": {},
   "outputs": [],
   "source": [
    "taro = CharaData()\n",
    "taro.name = \"太郎\"\n",
    "taro.attack = 5\n",
    "taro.guard = 7"
   ]
  },
  {
   "cell_type": "code",
   "execution_count": 20,
   "id": "8431d7eb-18be-4920-a790-1fa566875421",
   "metadata": {},
   "outputs": [
    {
     "name": "stdout",
     "output_type": "stream",
     "text": [
      "12\n"
     ]
    }
   ],
   "source": [
    "taro.power()"
   ]
  },
  {
   "cell_type": "code",
   "execution_count": 22,
   "id": "de45dc75-464b-4099-9e34-46a583801a6f",
   "metadata": {},
   "outputs": [],
   "source": [
    "jiro = CharaData()\n",
    "jiro.name = \"次郎\"\n",
    "jiro.attack = 6"
   ]
  },
  {
   "cell_type": "code",
   "execution_count": 23,
   "id": "fc32bf66-ec70-44cb-8af1-b18b9f1c4197",
   "metadata": {},
   "outputs": [
    {
     "name": "stdout",
     "output_type": "stream",
     "text": [
      "6\n"
     ]
    }
   ],
   "source": [
    "jiro.power()"
   ]
  },
  {
   "cell_type": "code",
   "execution_count": 24,
   "id": "ece5dc26-d919-4856-b2dd-2019a4f5fd1e",
   "metadata": {},
   "outputs": [
    {
     "data": {
      "text/plain": [
       "{'name': '次郎', 'attack': 6, 'guard': 0}"
      ]
     },
     "execution_count": 24,
     "metadata": {},
     "output_type": "execute_result"
    }
   ],
   "source": [
    "vars(jiro)"
   ]
  },
  {
   "cell_type": "code",
   "execution_count": null,
   "id": "1fe6d8a6-5dc5-4fd2-9204-68a35f4ea91f",
   "metadata": {},
   "outputs": [],
   "source": []
  }
 ],
 "metadata": {
  "kernelspec": {
   "display_name": "anaconda-2022.05-py39",
   "language": "python",
   "name": "conda-env-anaconda-2022.05-py39-py"
  },
  "language_info": {
   "codemirror_mode": {
    "name": "ipython",
    "version": 3
   },
   "file_extension": ".py",
   "mimetype": "text/x-python",
   "name": "python",
   "nbconvert_exporter": "python",
   "pygments_lexer": "ipython3",
   "version": "3.9.12"
  }
 },
 "nbformat": 4,
 "nbformat_minor": 5
}
