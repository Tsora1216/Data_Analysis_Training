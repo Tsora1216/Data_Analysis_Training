{
 "cells": [
  {
   "cell_type": "code",
   "execution_count": 1,
   "metadata": {},
   "outputs": [
    {
     "name": "stdout",
     "output_type": "stream",
     "text": [
      "(1200, 22)\n",
      "(800, 21)\n"
     ]
    }
   ],
   "source": [
    "# ライブラリのインポート\n",
    "import pandas as pd\n",
    "import numpy as np\n",
    "from sklearn.model_selection import train_test_split\n",
    "from sklearn.preprocessing import StandardScaler\n",
    "from sklearn.linear_model import LogisticRegression\n",
    "from sklearn.metrics import accuracy_score, confusion_matrix\n",
    "from sklearn import tree\n",
    "\n",
    "# データの読み込み\n",
    "train = pd.read_csv(\"./original/train.csv\")\n",
    "test = pd.read_csv(\"./original/test.csv\")\n",
    "\n",
    "# データの形式を確認\n",
    "print(train.shape) # (2000, 22)\n",
    "print(test.shape) # (1000, 21)\n",
    "\n",
    "# 特徴量と目的変数に分ける\n",
    "X_train = train.drop(\"price_range\", axis=1)\n",
    "y_train = train[\"price_range\"]\n",
    "X_test = test.copy()\n",
    "\n",
    "# 特徴量のスケーリング\n",
    "scaler = StandardScaler()\n",
    "X_train = scaler.fit_transform(X_train)\n",
    "X_test = scaler.transform(X_test)\n",
    "\n",
    "# ロジスティック回帰モデルの作成と学習\n",
    "model = tree.DecisionTreeClassifier(max_depth=3,random_state=1)\n",
    "model.fit(X_train, y_train)\n",
    "\n",
    "# 評価用データの価格帯の予測\n",
    "y_pred = model.predict(X_test)\n",
    "\n",
    "# 予測結果の出力\n",
    "output = pd.DataFrame({\"index\": test[\"id\"], \"price_range\": y_pred})\n",
    "output.to_csv(\"./submission/submission_dt_v2.csv\", index=False,header=False)"
   ]
  }
 ],
 "metadata": {
  "kernelspec": {
   "display_name": "Python 3",
   "language": "python",
   "name": "python3"
  },
  "language_info": {
   "codemirror_mode": {
    "name": "ipython",
    "version": 3
   },
   "file_extension": ".py",
   "mimetype": "text/x-python",
   "name": "python",
   "nbconvert_exporter": "python",
   "pygments_lexer": "ipython3",
   "version": "3.9.7"
  },
  "orig_nbformat": 4
 },
 "nbformat": 4,
 "nbformat_minor": 2
}
