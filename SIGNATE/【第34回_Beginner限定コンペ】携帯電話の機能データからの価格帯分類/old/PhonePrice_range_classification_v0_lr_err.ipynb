{
 "cells": [
  {
   "cell_type": "code",
   "execution_count": null,
   "metadata": {},
   "outputs": [],
   "source": [
    "# ワーニングメッセージを非表示にする\n",
    "import warnings\n",
    "warnings.simplefilter(\"ignore\")\n",
    "\n",
    "# データ分析によく使われるライブラリをインポートする\n",
    "import pandas as pd\n",
    "import numpy as np\n",
    "import seaborn as sns\n",
    "import matplotlib.pyplot as plt\n",
    "\n",
    "# Jupyter NotebookでMatplotlibのグラフを表示するための設定\n",
    "%matplotlib inline\n",
    "\n",
    "# 機械学習モデルの作成に必要なライブラリをインポートする\n",
    "from sklearn.model_selection import train_test_split\n",
    "from sklearn.linear_model import LogisticRegression\n",
    "from sklearn.metrics import accuracy_score,roc_auc_score,confusion_matrix\n",
    "from sklearn.metrics import roc_curve\n",
    "from sklearn import tree\n",
    "\n",
    "# 以降のプログラムで使うための、各種ライブラリのインポートが完了した\n",
    "from sklearn.preprocessing import StandardScaler"
   ]
  },
  {
   "cell_type": "code",
   "execution_count": null,
   "metadata": {},
   "outputs": [],
   "source": [
    "train = pd.read_csv('./original/train.csv')\n",
    "test = pd.read_csv('./original/test.csv')\n",
    "sample = pd.read_csv('./original/sample_submission.csv')"
   ]
  },
  {
   "cell_type": "code",
   "execution_count": null,
   "metadata": {},
   "outputs": [],
   "source": [
    "print('Train:',train.shape,\"Test:\",test.shape,\"Sample:\",sample.shape)"
   ]
  },
  {
   "cell_type": "code",
   "execution_count": null,
   "metadata": {},
   "outputs": [],
   "source": [
    "train.info()"
   ]
  },
  {
   "cell_type": "code",
   "execution_count": null,
   "metadata": {},
   "outputs": [],
   "source": [
    "test.info()"
   ]
  },
  {
   "cell_type": "code",
   "execution_count": null,
   "metadata": {},
   "outputs": [],
   "source": [
    "sample.info()"
   ]
  },
  {
   "cell_type": "code",
   "execution_count": null,
   "metadata": {},
   "outputs": [],
   "source": [
    "train.head()"
   ]
  },
  {
   "cell_type": "code",
   "execution_count": null,
   "metadata": {},
   "outputs": [],
   "source": [
    "# MatplotlibのFigureを作成する。グラフのサイズを指定する。\n",
    "plt.figure(figsize=(7,5))\n",
    "\n",
    "# Seabornのcountplotを使って、train['y']の値の出現回数を数えて棒グラフで表示する。\n",
    "sns.countplot(x=train['price_range'], data=train)\n",
    "\n",
    "# グラフにタイトルを設定する。\n",
    "plt.title('正解データの分布')\n",
    "\n",
    "# グラフを表示する。\n",
    "plt.show()"
   ]
  },
  {
   "cell_type": "code",
   "execution_count": null,
   "metadata": {},
   "outputs": [],
   "source": [
    "train_drop = train.copy()\n",
    "train_drop = train_drop.drop([\"id\"], axis=1)\n",
    "train_drop.corr()"
   ]
  },
  {
   "cell_type": "code",
   "execution_count": null,
   "metadata": {},
   "outputs": [],
   "source": [
    "# ヒートマップで可視化\n",
    "plt.figure(figsize=(9, 5))\n",
    "sns.heatmap(train_drop.corr())\n",
    "plt.xticks(rotation=0)\n",
    "plt.show()"
   ]
  },
  {
   "cell_type": "code",
   "execution_count": null,
   "metadata": {},
   "outputs": [],
   "source": [
    "use_columns = [\"battery_power\",\"blue\",\"clock_speed\",\"dual_sim\",\"fc\",\"four_g\",\"int_memory\",\"m_dep\",\"mobile_wt\",\"n_cores\",\"pc\",\"px_height\",\"px_width\",\"ram\",\"sc_h\",\"sc_w\",\"talk_time\",\"three_g\",\"touch_screen\",\"wifi\"]\n",
    "y = train[\"price_range\"]\n",
    "train = train[use_columns]\n",
    "test = test[use_columns]"
   ]
  },
  {
   "cell_type": "code",
   "execution_count": null,
   "metadata": {},
   "outputs": [],
   "source": [
    "train.head()"
   ]
  },
  {
   "cell_type": "code",
   "execution_count": null,
   "metadata": {},
   "outputs": [],
   "source": [
    "ss = StandardScaler()\n",
    "train_ss = pd.DataFrame(ss.fit_transform(train), columns=train.columns)\n",
    "test_ss = pd.DataFrame(ss.transform(test), columns=test.columns)"
   ]
  },
  {
   "cell_type": "code",
   "execution_count": null,
   "metadata": {},
   "outputs": [],
   "source": [
    "# データの分割\n",
    "X_train, X_valid, y_train, y_valid = train_test_split(train_ss, y, test_size=0.25, random_state=82, stratify=y)"
   ]
  },
  {
   "cell_type": "code",
   "execution_count": null,
   "metadata": {},
   "outputs": [],
   "source": [
    "# class_weightを設定することで不均衡データに対応\n",
    "lr = LogisticRegression(random_state=82, class_weight='balanced')\n",
    "lr.fit(X_train, y_train)"
   ]
  },
  {
   "cell_type": "code",
   "execution_count": null,
   "metadata": {},
   "outputs": [],
   "source": [
    "# 学習\n",
    "lr.fit(X_train, y_train)\n",
    "lr.fit(X_valid, y_valid)\n",
    "\n",
    "# 予測・精度算出\n",
    "train_pred = lr.predict(X_train)\n",
    "valid_pred = lr.predict(X_valid)\n",
    "print('train score : ', accuracy_score(y_train, train_pred))\n",
    "print('valid score : ', accuracy_score(y_valid, valid_pred))"
   ]
  },
  {
   "cell_type": "code",
   "execution_count": null,
   "metadata": {},
   "outputs": [],
   "source": [
    "train_proba = lr.predict_proba(X_train)[:, 1]\n",
    "valid_proba = lr.predict_proba(X_valid)[:, 1]"
   ]
  },
  {
   "cell_type": "code",
   "execution_count": null,
   "metadata": {},
   "outputs": [],
   "source": [
    "#AUCスコアでの精度\n",
    "print(\"train AUC:\", roc_auc_score(y_train, train_proba))\n",
    "print(\"valid AUC:\", roc_auc_score(y_valid, valid_proba))"
   ]
  },
  {
   "cell_type": "code",
   "execution_count": null,
   "metadata": {},
   "outputs": [],
   "source": [
    "#AUCスコアの可視化\n",
    "fpr, tpr, thresholds = roc_curve(y_valid, valid_proba)\n",
    "plt.figure(figsize=(7, 5))\n",
    "plt.plot(fpr, tpr, label=f\"ROC curve (area={roc_auc_score(y_valid, valid_proba).round(2)})\")\n",
    "plt.plot([0, 1.0], [0,1.0], linestyle=\"--\", color=\"black\")\n",
    "plt.xlabel('False Positive Rate')\n",
    "plt.ylabel('Ture Positive Rate')\n",
    "plt.legend()\n",
    "plt.grid()\n",
    "plt.show()"
   ]
  },
  {
   "cell_type": "code",
   "execution_count": null,
   "metadata": {},
   "outputs": [],
   "source": [
    "# testデータの予測\n",
    "predict = lr.predict_proba(test_ss)[:, 1]"
   ]
  },
  {
   "cell_type": "code",
   "execution_count": null,
   "metadata": {},
   "outputs": [],
   "source": [
    "# submit_sampleの読み込み、提出フォームの作成\n",
    "submit = pd.read_csv('./original/sample_submission.csv', header=None)\n",
    "submit[1] = predict[:len(submit)]\n",
    "submit.to_csv('./submission/submission_lr.csv', header=None, index=False)"
   ]
  },
  {
   "cell_type": "code",
   "execution_count": null,
   "metadata": {},
   "outputs": [],
   "source": [
    "submit.head()"
   ]
  }
 ],
 "metadata": {
  "kernelspec": {
   "display_name": "Python 3",
   "language": "python",
   "name": "python3"
  },
  "language_info": {
   "codemirror_mode": {
    "name": "ipython",
    "version": 3
   },
   "file_extension": ".py",
   "mimetype": "text/x-python",
   "name": "python",
   "nbconvert_exporter": "python",
   "pygments_lexer": "ipython3",
   "version": "3.9.7"
  },
  "orig_nbformat": 4
 },
 "nbformat": 4,
 "nbformat_minor": 2
}
