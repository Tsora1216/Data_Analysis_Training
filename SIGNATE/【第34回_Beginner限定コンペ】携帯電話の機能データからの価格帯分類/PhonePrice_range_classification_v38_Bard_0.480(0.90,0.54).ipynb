{
 "cells": [
  {
   "attachments": {},
   "cell_type": "markdown",
   "metadata": {},
   "source": [
    "ベース・モデルは LightGBM を用いて，モデル選択は層化K分割交差検証 (K=5) を用いたプログラムに変更した<br>\n",
    "追加1・使用する特徴量を相関係数から選択した。<br>\n",
    "追加2・学習データを分け、モデルを評価できるようにした<br>\n",
    "追加3・層化K分割交差検証 (K=7) にした\n"
   ]
  },
  {
   "cell_type": "code",
   "execution_count": 1,
   "metadata": {},
   "outputs": [
    {
     "name": "stdout",
     "output_type": "stream",
     "text": [
      "Requirement already satisfied: lightgbm in g:\\data_analysis_training\\.conda\\lib\\site-packages (3.3.5)\n",
      "Requirement already satisfied: wheel in g:\\data_analysis_training\\.conda\\lib\\site-packages (from lightgbm) (0.38.4)\n",
      "Requirement already satisfied: numpy in g:\\data_analysis_training\\.conda\\lib\\site-packages (from lightgbm) (1.24.3)\n",
      "Requirement already satisfied: scipy in g:\\data_analysis_training\\.conda\\lib\\site-packages (from lightgbm) (1.10.1)\n",
      "Requirement already satisfied: scikit-learn!=0.22.0 in g:\\data_analysis_training\\.conda\\lib\\site-packages (from lightgbm) (1.2.2)\n",
      "Requirement already satisfied: joblib>=1.1.1 in g:\\data_analysis_training\\.conda\\lib\\site-packages (from scikit-learn!=0.22.0->lightgbm) (1.2.0)\n",
      "Requirement already satisfied: threadpoolctl>=2.0.0 in g:\\data_analysis_training\\.conda\\lib\\site-packages (from scikit-learn!=0.22.0->lightgbm) (3.1.0)\n"
     ]
    }
   ],
   "source": [
    "!pip install lightgbm"
   ]
  },
  {
   "cell_type": "code",
   "execution_count": 1,
   "metadata": {},
   "outputs": [
    {
     "ename": "ImportError",
     "evalue": "cannot import name 'XGBRegressor' from 'sklearn.ensemble' (g:\\Data_Analysis_Training\\.conda\\Lib\\site-packages\\sklearn\\ensemble\\__init__.py)",
     "output_type": "error",
     "traceback": [
      "\u001b[1;31m---------------------------------------------------------------------------\u001b[0m",
      "\u001b[1;31mImportError\u001b[0m                               Traceback (most recent call last)",
      "Cell \u001b[1;32mIn[1], line 5\u001b[0m\n\u001b[0;32m      3\u001b[0m \u001b[39mfrom\u001b[39;00m \u001b[39msklearn\u001b[39;00m\u001b[39m.\u001b[39;00m\u001b[39mlinear_model\u001b[39;00m \u001b[39mimport\u001b[39;00m LinearRegression\n\u001b[0;32m      4\u001b[0m \u001b[39mfrom\u001b[39;00m \u001b[39msklearn\u001b[39;00m\u001b[39m.\u001b[39;00m\u001b[39mneural_network\u001b[39;00m \u001b[39mimport\u001b[39;00m MLPRegressor\n\u001b[1;32m----> 5\u001b[0m \u001b[39mfrom\u001b[39;00m \u001b[39msklearn\u001b[39;00m\u001b[39m.\u001b[39;00m\u001b[39mensemble\u001b[39;00m \u001b[39mimport\u001b[39;00m XGBRegressor\n\u001b[0;32m      6\u001b[0m \u001b[39mfrom\u001b[39;00m \u001b[39msklearn\u001b[39;00m\u001b[39m.\u001b[39;00m\u001b[39mpreprocessing\u001b[39;00m \u001b[39mimport\u001b[39;00m StandardScaler\n\u001b[0;32m      7\u001b[0m \u001b[39mfrom\u001b[39;00m \u001b[39msklearn\u001b[39;00m\u001b[39m.\u001b[39;00m\u001b[39mneighbors\u001b[39;00m \u001b[39mimport\u001b[39;00m LocalOutlierFactor\n",
      "\u001b[1;31mImportError\u001b[0m: cannot import name 'XGBRegressor' from 'sklearn.ensemble' (g:\\Data_Analysis_Training\\.conda\\Lib\\site-packages\\sklearn\\ensemble\\__init__.py)"
     ]
    }
   ],
   "source": [
    "import pandas as pd\n",
    "from sklearn.ensemble import VotingRegressor\n",
    "from sklearn.linear_model import LinearRegression\n",
    "from sklearn.neural_network import MLPRegressor\n",
    "from sklearn.ensemble import XGBRegressor\n",
    "from sklearn.preprocessing import StandardScaler\n",
    "from sklearn.neighbors import LocalOutlierFactor\n",
    "\n",
    "# データの読み込み\n",
    "df_train = pd.read_csv(\"train.csv\")\n",
    "df_test = pd.read_csv(\"test.csv\")\n",
    "\n",
    "# 目的変数と説明変数を定義する\n",
    "y_train = df_train[\"price\"]\n",
    "x_train = df_train[[\"primary_camera_resolution\", \"battery_capacity\", \"internal_memory\", \"ram\", \"screen_size\", \"dual_sim\", \"4g_support\"]]\n",
    "\n",
    "# モデルをトレーニングする\n",
    "model_lr = LinearRegression()\n",
    "model_nn = MLPRegressor(hidden_layer_sizes=(100, 50), activation=\"relu\", solver=\"adam\", random_state=42)\n",
    "model_xgb = XGBRegressor()\n",
    "\n",
    "# 特徴量エンジニアリング\n",
    "df_train['ram_in_gb'] = df_train['ram'] / 1024\n",
    "df_train['battery_in_mah'] = df_train['battery_capacity'] * 1000\n",
    "\n",
    "df_test['ram_in_gb'] = df_test['ram'] / 1024\n",
    "df_test['battery_in_mah'] = df_test['battery_capacity'] * 1000\n",
    "\n",
    "# データの正規化または標準化を行う\n",
    "scaler = StandardScaler()\n",
    "x_train = scaler.fit_transform(x_train)\n",
    "x_test = scaler.transform(x_test)\n",
    "\n",
    "# 外れ値を除外する\n",
    "lof = LocalOutlierFactor(n_neighbors=20, contamination=0.05)\n",
    "outliers = lof.fit_predict(x_train)\n",
    "x_train = x_train[outliers == 1]\n",
    "y_train = y_train[outliers == 1]\n",
    "\n",
    "# モデルをトレーニングする\n",
    "model_vote = VotingRegressor(estimators=[('lr', model_lr), ('nn', model_nn), ('xgb', model_xgb)], voting='soft')\n",
    "model_vote.fit(x_train, y_train)\n",
    "\n",
    "# 予測価格を計算する\n",
    "df_test[\"rePrice_range\"] = pd.cut(model_vote.predict(x_test), bins=[0, 20000, 40000, 60000, 80000], labels=[0, 1, 2, 3])\n",
    "\n",
    "# 一致率を計算する\n",
    "score = df_test[\"rePrice_range\"].equals(df_test[\"price_range\"]).mean()\n",
    "\n",
    "print(\"Accuracy:\", score)\n",
    "\n",
    "# 予測結果を書き出す\n",
    "df_test[[\"id\", \"rePrice_range\"]].to_csv(\"predictions.csv\", index=False)"
   ]
  },
  {
   "cell_type": "code",
   "execution_count": 2,
   "metadata": {},
   "outputs": [
    {
     "data": {
      "text/html": [
       "<div>\n",
       "<style scoped>\n",
       "    .dataframe tbody tr th:only-of-type {\n",
       "        vertical-align: middle;\n",
       "    }\n",
       "\n",
       "    .dataframe tbody tr th {\n",
       "        vertical-align: top;\n",
       "    }\n",
       "\n",
       "    .dataframe thead th {\n",
       "        text-align: right;\n",
       "    }\n",
       "</style>\n",
       "<table border=\"1\" class=\"dataframe\">\n",
       "  <thead>\n",
       "    <tr style=\"text-align: right;\">\n",
       "      <th></th>\n",
       "      <th>index</th>\n",
       "      <th>price_range</th>\n",
       "    </tr>\n",
       "  </thead>\n",
       "  <tbody>\n",
       "    <tr>\n",
       "      <th>0</th>\n",
       "      <td>1</td>\n",
       "      <td>1</td>\n",
       "    </tr>\n",
       "    <tr>\n",
       "      <th>1</th>\n",
       "      <td>2</td>\n",
       "      <td>0</td>\n",
       "    </tr>\n",
       "    <tr>\n",
       "      <th>2</th>\n",
       "      <td>6</td>\n",
       "      <td>3</td>\n",
       "    </tr>\n",
       "    <tr>\n",
       "      <th>3</th>\n",
       "      <td>10</td>\n",
       "      <td>1</td>\n",
       "    </tr>\n",
       "    <tr>\n",
       "      <th>4</th>\n",
       "      <td>12</td>\n",
       "      <td>1</td>\n",
       "    </tr>\n",
       "    <tr>\n",
       "      <th>...</th>\n",
       "      <td>...</td>\n",
       "      <td>...</td>\n",
       "    </tr>\n",
       "    <tr>\n",
       "      <th>795</th>\n",
       "      <td>1978</td>\n",
       "      <td>3</td>\n",
       "    </tr>\n",
       "    <tr>\n",
       "      <th>796</th>\n",
       "      <td>1980</td>\n",
       "      <td>1</td>\n",
       "    </tr>\n",
       "    <tr>\n",
       "      <th>797</th>\n",
       "      <td>1982</td>\n",
       "      <td>3</td>\n",
       "    </tr>\n",
       "    <tr>\n",
       "      <th>798</th>\n",
       "      <td>1988</td>\n",
       "      <td>2</td>\n",
       "    </tr>\n",
       "    <tr>\n",
       "      <th>799</th>\n",
       "      <td>1998</td>\n",
       "      <td>2</td>\n",
       "    </tr>\n",
       "  </tbody>\n",
       "</table>\n",
       "<p>800 rows × 2 columns</p>\n",
       "</div>"
      ],
      "text/plain": [
       "     index  price_range\n",
       "0        1            1\n",
       "1        2            0\n",
       "2        6            3\n",
       "3       10            1\n",
       "4       12            1\n",
       "..     ...          ...\n",
       "795   1978            3\n",
       "796   1980            1\n",
       "797   1982            3\n",
       "798   1988            2\n",
       "799   1998            2\n",
       "\n",
       "[800 rows x 2 columns]"
      ]
     },
     "execution_count": 2,
     "metadata": {},
     "output_type": "execute_result"
    }
   ],
   "source": [
    "output"
   ]
  }
 ],
 "metadata": {
  "kernelspec": {
   "display_name": "Python 3",
   "language": "python",
   "name": "python3"
  },
  "language_info": {
   "codemirror_mode": {
    "name": "ipython",
    "version": 3
   },
   "file_extension": ".py",
   "mimetype": "text/x-python",
   "name": "python",
   "nbconvert_exporter": "python",
   "pygments_lexer": "ipython3",
   "version": "3.11.2"
  },
  "orig_nbformat": 4
 },
 "nbformat": 4,
 "nbformat_minor": 2
}
