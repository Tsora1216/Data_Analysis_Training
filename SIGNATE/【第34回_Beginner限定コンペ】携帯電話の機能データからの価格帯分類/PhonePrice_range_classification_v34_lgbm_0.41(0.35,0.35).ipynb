{
 "cells": [
  {
   "attachments": {},
   "cell_type": "markdown",
   "metadata": {},
   "source": [
    "ベース・モデルは LightGBM を用いて，モデル選択は層化K分割交差検証 (K=5) を用いたプログラムに変更した<br>\n",
    "追加１・使用する特徴量を相関係数から選択した。<br>\n",
    "追加２・学習データを分け、モデルを評価できるようにした"
   ]
  },
  {
   "attachments": {},
   "cell_type": "markdown",
   "metadata": {},
   "source": [
    "ハイパーパラメータのぐりっとサーチを実装したプログラム"
   ]
  },
  {
   "cell_type": "code",
   "execution_count": 1,
   "metadata": {},
   "outputs": [
    {
     "name": "stdout",
     "output_type": "stream",
     "text": [
      "Requirement already satisfied: lightgbm in g:\\data_analysis_training\\.conda\\lib\\site-packages (3.3.5)\n",
      "Requirement already satisfied: wheel in g:\\data_analysis_training\\.conda\\lib\\site-packages (from lightgbm) (0.38.4)\n",
      "Requirement already satisfied: numpy in g:\\data_analysis_training\\.conda\\lib\\site-packages (from lightgbm) (1.24.3)\n",
      "Requirement already satisfied: scipy in g:\\data_analysis_training\\.conda\\lib\\site-packages (from lightgbm) (1.10.1)\n",
      "Requirement already satisfied: scikit-learn!=0.22.0 in g:\\data_analysis_training\\.conda\\lib\\site-packages (from lightgbm) (1.2.2)\n",
      "Requirement already satisfied: joblib>=1.1.1 in g:\\data_analysis_training\\.conda\\lib\\site-packages (from scikit-learn!=0.22.0->lightgbm) (1.2.0)\n",
      "Requirement already satisfied: threadpoolctl>=2.0.0 in g:\\data_analysis_training\\.conda\\lib\\site-packages (from scikit-learn!=0.22.0->lightgbm) (3.1.0)\n"
     ]
    }
   ],
   "source": [
    "!pip install lightgbm"
   ]
  },
  {
   "cell_type": "code",
   "execution_count": 1,
   "metadata": {},
   "outputs": [
    {
     "name": "stdout",
     "output_type": "stream",
     "text": [
      "Best hyperparameters:  {'colsample_bytree': 0.6, 'learning_rate': 0.05, 'max_depth': -1, 'num_leaves': 31, 'reg_alpha': 1.0, 'reg_lambda': 0.01, 'subsample': 0.6}\n",
      "Training Accuracy:  0.40729166666666666\n",
      "Validation Accuracy:  0.35\n"
     ]
    },
    {
     "name": "stderr",
     "output_type": "stream",
     "text": [
      "g:\\Data_Analysis_Training\\.conda\\Lib\\site-packages\\lightgbm\\sklearn.py:726: UserWarning: 'early_stopping_rounds' argument is deprecated and will be removed in a future release of LightGBM. Pass 'early_stopping()' callback via 'callbacks' argument instead.\n",
      "  _log_warning(\"'early_stopping_rounds' argument is deprecated and will be removed in a future release of LightGBM. \"\n",
      "g:\\Data_Analysis_Training\\.conda\\Lib\\site-packages\\lightgbm\\sklearn.py:736: UserWarning: 'verbose' argument is deprecated and will be removed in a future release of LightGBM. Pass 'log_evaluation()' callback via 'callbacks' argument instead.\n",
      "  _log_warning(\"'verbose' argument is deprecated and will be removed in a future release of LightGBM. \"\n"
     ]
    }
   ],
   "source": [
    "import pandas as pd\n",
    "import numpy as np\n",
    "from sklearn.preprocessing import StandardScaler\n",
    "from sklearn.model_selection import StratifiedKFold\n",
    "from lightgbm import LGBMClassifier\n",
    "from sklearn.metrics import accuracy_score, confusion_matrix\n",
    "from sklearn.model_selection import GridSearchCV\n",
    " # データの読み込み\n",
    "train = pd.read_csv(\"./original/train.csv\")\n",
    "test = pd.read_csv(\"./original/test.csv\")\n",
    " # 相関が高い特徴量に絞り込む\n",
    "columns = ['battery_power', 'ram', 'int_memory', 'three_g', 'touch_screen', 'wifi']\n",
    " # 特徴量と目的変数に分ける\n",
    "X_train = train[columns]\n",
    "y_train = train[\"price_range\"]\n",
    "X_test = test[columns]\n",
    " # train_test_splitを使用して学習データを分割する\n",
    "from sklearn.model_selection import train_test_split\n",
    "X_train_, X_val, y_train_, y_val = train_test_split(X_train, y_train, test_size=0.2, random_state=42)\n",
    " # 特徴量のスケーリング\n",
    "scaler = StandardScaler()\n",
    "X_train_ = scaler.fit_transform(X_train_)\n",
    "X_test = scaler.transform(X_test)\n",
    " # ハイパーパラメータの設定\n",
    "params = {\n",
    "    'objective': 'multiclass',\n",
    "    'num_class': 4,\n",
    "    'metric': 'multi_error',\n",
    "    'boosting_type': 'gbdt',\n",
    "    'n_jobs': -1,\n",
    "    'num_leaves': 31,\n",
    "    'learning_rate': 0.05,\n",
    "    'max_depth': -1,\n",
    "    'min_child_samples': 20,\n",
    "    'subsample_freq': 1,\n",
    "    'subsample': 0.8,\n",
    "    'colsample_bytree': 0.6,\n",
    "    'reg_alpha': 0.1,\n",
    "    'reg_lambda': 0.1,\n",
    "    'verbosity': -1,\n",
    "    'seed': 42\n",
    "}\n",
    " # グリッドサーチで最適なハイパーパラメータを探索する\n",
    "param_dist = {\n",
    "    'learning_rate': [0.01, 0.05, 0.1],\n",
    "    'max_depth': [5, 10, -1],\n",
    "    'num_leaves': [31, 50, 100],\n",
    "    'subsample': [0.6, 0.8, 1.0],\n",
    "    'colsample_bytree': [0.6, 0.8, 1.0],\n",
    "    'reg_alpha': [0.01, 0.1, 1.0],\n",
    "    'reg_lambda': [0.01, 0.1, 1.0],\n",
    "}\n",
    "lgbm = LGBMClassifier(**params)\n",
    "skf = StratifiedKFold(n_splits=5, shuffle=True, random_state=42)\n",
    "grid_search = GridSearchCV(lgbm, param_grid=param_dist, cv=skf, n_jobs=-1)\n",
    "grid_search.fit(X_train_, y_train_)\n",
    "best_params = grid_search.best_params_\n",
    "print(\"Best hyperparameters: \", best_params)\n",
    " # 最適なハイパーパラメータを使用してモデルを再学習する\n",
    "model = LGBMClassifier(**best_params)\n",
    "model.fit(X_train_, y_train_, eval_set=[(X_val, y_val)], early_stopping_rounds=100, verbose=False)\n",
    " # モデルの評価\n",
    "y_train_pred = model.predict(X_train_)\n",
    "y_val_pred = model.predict(X_val)\n",
    "print(\"Training Accuracy: \", accuracy_score(y_train_, y_train_pred))\n",
    "print(\"Validation Accuracy: \", accuracy_score(y_val, y_val_pred))\n",
    " # 予測結果の出力\n",
    "y_pred = model.predict(X_test)\n",
    "output = pd.DataFrame({\"id\": test[\"id\"], \"price_range\": y_pred})\n",
    "output.to_csv(\"./submission/submission_lgbm_v7.csv\", index=False, header=False)"
   ]
  },
  {
   "cell_type": "code",
   "execution_count": 2,
   "metadata": {},
   "outputs": [
    {
     "data": {
      "text/html": [
       "<div>\n",
       "<style scoped>\n",
       "    .dataframe tbody tr th:only-of-type {\n",
       "        vertical-align: middle;\n",
       "    }\n",
       "\n",
       "    .dataframe tbody tr th {\n",
       "        vertical-align: top;\n",
       "    }\n",
       "\n",
       "    .dataframe thead th {\n",
       "        text-align: right;\n",
       "    }\n",
       "</style>\n",
       "<table border=\"1\" class=\"dataframe\">\n",
       "  <thead>\n",
       "    <tr style=\"text-align: right;\">\n",
       "      <th></th>\n",
       "      <th>index</th>\n",
       "      <th>price_range</th>\n",
       "    </tr>\n",
       "  </thead>\n",
       "  <tbody>\n",
       "    <tr>\n",
       "      <th>0</th>\n",
       "      <td>1</td>\n",
       "      <td>1</td>\n",
       "    </tr>\n",
       "    <tr>\n",
       "      <th>1</th>\n",
       "      <td>2</td>\n",
       "      <td>0</td>\n",
       "    </tr>\n",
       "    <tr>\n",
       "      <th>2</th>\n",
       "      <td>6</td>\n",
       "      <td>3</td>\n",
       "    </tr>\n",
       "    <tr>\n",
       "      <th>3</th>\n",
       "      <td>10</td>\n",
       "      <td>1</td>\n",
       "    </tr>\n",
       "    <tr>\n",
       "      <th>4</th>\n",
       "      <td>12</td>\n",
       "      <td>1</td>\n",
       "    </tr>\n",
       "    <tr>\n",
       "      <th>...</th>\n",
       "      <td>...</td>\n",
       "      <td>...</td>\n",
       "    </tr>\n",
       "    <tr>\n",
       "      <th>795</th>\n",
       "      <td>1978</td>\n",
       "      <td>3</td>\n",
       "    </tr>\n",
       "    <tr>\n",
       "      <th>796</th>\n",
       "      <td>1980</td>\n",
       "      <td>1</td>\n",
       "    </tr>\n",
       "    <tr>\n",
       "      <th>797</th>\n",
       "      <td>1982</td>\n",
       "      <td>3</td>\n",
       "    </tr>\n",
       "    <tr>\n",
       "      <th>798</th>\n",
       "      <td>1988</td>\n",
       "      <td>2</td>\n",
       "    </tr>\n",
       "    <tr>\n",
       "      <th>799</th>\n",
       "      <td>1998</td>\n",
       "      <td>2</td>\n",
       "    </tr>\n",
       "  </tbody>\n",
       "</table>\n",
       "<p>800 rows × 2 columns</p>\n",
       "</div>"
      ],
      "text/plain": [
       "     index  price_range\n",
       "0        1            1\n",
       "1        2            0\n",
       "2        6            3\n",
       "3       10            1\n",
       "4       12            1\n",
       "..     ...          ...\n",
       "795   1978            3\n",
       "796   1980            1\n",
       "797   1982            3\n",
       "798   1988            2\n",
       "799   1998            2\n",
       "\n",
       "[800 rows x 2 columns]"
      ]
     },
     "execution_count": 2,
     "metadata": {},
     "output_type": "execute_result"
    }
   ],
   "source": [
    "output"
   ]
  }
 ],
 "metadata": {
  "kernelspec": {
   "display_name": "Python 3",
   "language": "python",
   "name": "python3"
  },
  "language_info": {
   "codemirror_mode": {
    "name": "ipython",
    "version": 3
   },
   "file_extension": ".py",
   "mimetype": "text/x-python",
   "name": "python",
   "nbconvert_exporter": "python",
   "pygments_lexer": "ipython3",
   "version": "3.11.2"
  },
  "orig_nbformat": 4
 },
 "nbformat": 4,
 "nbformat_minor": 2
}
