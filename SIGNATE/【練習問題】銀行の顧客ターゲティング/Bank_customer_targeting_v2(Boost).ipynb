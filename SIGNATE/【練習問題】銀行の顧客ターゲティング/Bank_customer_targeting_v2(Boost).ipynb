{
 "cells": [
  {
   "cell_type": "code",
   "execution_count": 1,
   "metadata": {},
   "outputs": [
    {
     "name": "stdout",
     "output_type": "stream",
     "text": [
      "Defaulting to user installation because normal site-packages is not writeable\n",
      "Requirement already satisfied: xgboost in c:\\users\\de\\appdata\\roaming\\python\\python311\\site-packages (1.7.5)\n",
      "Requirement already satisfied: numpy in c:\\users\\de\\appdata\\roaming\\python\\python311\\site-packages (from xgboost) (1.24.2)\n",
      "Requirement already satisfied: scipy in c:\\users\\de\\appdata\\roaming\\python\\python311\\site-packages (from xgboost) (1.10.1)\n",
      "Defaulting to user installation because normal site-packages is not writeable\n",
      "Requirement already satisfied: xgboost in c:\\users\\de\\appdata\\roaming\\python\\python311\\site-packages (1.7.5)\n",
      "Requirement already satisfied: numpy in c:\\users\\de\\appdata\\roaming\\python\\python311\\site-packages (from xgboost) (1.24.2)\n",
      "Requirement already satisfied: scipy in c:\\users\\de\\appdata\\roaming\\python\\python311\\site-packages (from xgboost) (1.10.1)\n"
     ]
    }
   ],
   "source": [
    "!pip install xgboost\n",
    "!pip3 install xgboost\n"
   ]
  },
  {
   "cell_type": "code",
   "execution_count": 5,
   "metadata": {},
   "outputs": [],
   "source": [
    "import pandas as pd\n",
    "import numpy as np\n",
    "import xgboost as xgb\n",
    "from sklearn.preprocessing import LabelEncoder\n",
    "from sklearn.model_selection import train_test_split\n",
    "\n",
    "# データの読み込み\n",
    "train = pd.read_csv('train.csv')\n",
    "test = pd.read_csv('test.csv')\n",
    "\n",
    "# 特徴量の前処理\n",
    "categorical_features = ['job', 'marital', 'education', 'default', 'housing', 'loan', 'contact', 'month', 'poutcome']\n",
    "label_encoder = LabelEncoder()\n",
    "for feature in categorical_features:\n",
    "    train[feature] = label_encoder.fit_transform(train[feature])\n",
    "    test[feature] = label_encoder.transform(test[feature])\n",
    "\n",
    "# 目的変数と説明変数の分割\n",
    "X_train = train.drop(['y'], axis=1)\n",
    "y_train = train['y']\n",
    "\n",
    "# モデルの学習\n",
    "xgb_model = xgb.XGBClassifier(n_estimators=1000, max_depth=6, learning_rate=0.1)\n",
    "xgb_model.fit(X_train, y_train)\n",
    "\n",
    "# 予測結果の出力\n",
    "#X_test = test.drop(['id'], axis=1)\n",
    "X_test = test[X_train.columns]\n",
    "test['y'] = xgb_model.predict_proba(X_test)[:,1]\n",
    "submit = test[['id', 'y']]\n",
    "submit.to_csv('submission.csv', index=False)"
   ]
  }
 ],
 "metadata": {
  "kernelspec": {
   "display_name": "Python 3",
   "language": "python",
   "name": "python3"
  },
  "language_info": {
   "codemirror_mode": {
    "name": "ipython",
    "version": 3
   },
   "file_extension": ".py",
   "mimetype": "text/x-python",
   "name": "python",
   "nbconvert_exporter": "python",
   "pygments_lexer": "ipython3",
   "version": "3.11.3"
  },
  "orig_nbformat": 4
 },
 "nbformat": 4,
 "nbformat_minor": 2
}
