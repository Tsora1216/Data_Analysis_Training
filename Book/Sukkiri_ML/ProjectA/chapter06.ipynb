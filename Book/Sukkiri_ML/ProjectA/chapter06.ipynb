{
 "cells": [
  {
   "cell_type": "code",
   "execution_count": 1,
   "metadata": {},
   "outputs": [
    {
     "ename": "ModuleNotFoundError",
     "evalue": "No module named 'pandas'",
     "output_type": "error",
     "traceback": [
      "\u001b[1;31m---------------------------------------------------------------------------\u001b[0m",
      "\u001b[1;31mModuleNotFoundError\u001b[0m                       Traceback (most recent call last)",
      "Cell \u001b[1;32mIn[1], line 2\u001b[0m\n\u001b[0;32m      1\u001b[0m \u001b[39m#cinema.csvの読み込み\u001b[39;00m\n\u001b[1;32m----> 2\u001b[0m \u001b[39mimport\u001b[39;00m \u001b[39mpandas\u001b[39;00m \u001b[39mas\u001b[39;00m \u001b[39mpd\u001b[39;00m\n\u001b[0;32m      4\u001b[0m \u001b[39m# 'shift-jis' エンコーディングを指定してファイルを読み込む\u001b[39;00m\n\u001b[0;32m      5\u001b[0m df \u001b[39m=\u001b[39m pd\u001b[39m.\u001b[39mread_csv(\u001b[39m'\u001b[39m\u001b[39m./datafiles/cinema.csv\u001b[39m\u001b[39m'\u001b[39m, encoding\u001b[39m=\u001b[39m\u001b[39m'\u001b[39m\u001b[39mutf-8\u001b[39m\u001b[39m'\u001b[39m)\n",
      "\u001b[1;31mModuleNotFoundError\u001b[0m: No module named 'pandas'"
     ]
    }
   ],
   "source": [
    "#cinema.csvの読み込み\n",
    "import pandas as pd\n",
    "\n",
    "# 'shift-jis' エンコーディングを指定してファイルを読み込む\n",
    "df = pd.read_csv('./datafiles/cinema.csv', encoding='utf-8')\n",
    "df.head(3)"
   ]
  },
  {
   "cell_type": "code",
   "execution_count": null,
   "metadata": {},
   "outputs": [],
   "source": [
    "#欠損値の確認\n",
    "df.isnull().any(axis=0)"
   ]
  },
  {
   "cell_type": "code",
   "execution_count": null,
   "metadata": {},
   "outputs": [],
   "source": [
    "#欠損値の穴埋め\n",
    "df2 = df.fillna(df.mean())\n",
    "df2.isnull().any(axis=0)"
   ]
  },
  {
   "cell_type": "code",
   "execution_count": null,
   "metadata": {},
   "outputs": [],
   "source": [
    "#SNS2列とsales列の散布図を作成\n",
    "%matplotlib inline\n",
    "df2.plot(kind=\"scatter\", x = \"SNS2\", y = \"sales\")"
   ]
  },
  {
   "cell_type": "code",
   "execution_count": null,
   "metadata": {},
   "outputs": [],
   "source": [
    "#特徴量との組み合わせを変えて散布図を作成\n",
    "df2.plot(kind =\"scatter\", x =\"SNS1\", y = \"sales\")\n",
    "df2.plot(kind =\"scatter\", x =\"SNS2\", y = \"sales\")\n",
    "df2.plot(kind =\"scatter\", x =\"actor\", y = \"sales\")\n",
    "df2.plot(kind =\"scatter\", x =\"original\", y = \"sales\")"
   ]
  },
  {
   "cell_type": "code",
   "execution_count": null,
   "metadata": {},
   "outputs": [],
   "source": [
    "#コード6-5と同じことをfor分との組み合わせで行う\n",
    "for name in df.columns:\n",
    "    if name == \"cinema_id\" or name == \"sales\":\n",
    "        continue\n",
    "    df.plot(kind=\"scatter\",x = name ,y = \"sales\")"
   ]
  },
  {
   "cell_type": "code",
   "execution_count": null,
   "metadata": {},
   "outputs": [],
   "source": [
    "#外れ値を削除する\n",
    "no = df2[(df2['SNS2']>1000) & (df2[\"sales\"]<8500)].index\n",
    "df3 = df2.drop(no,axis=0)"
   ]
  },
  {
   "cell_type": "code",
   "execution_count": null,
   "metadata": {},
   "outputs": [],
   "source": [
    "#データフレームを作成して特定の行を参照する\n",
    "test = pd.DataFrame({\"Acolumn\": [1, 2, 3], \"Bcolumn\": [4, 5, 6]})"
   ]
  },
  {
   "cell_type": "code",
   "execution_count": null,
   "metadata": {},
   "outputs": [],
   "source": [
    "#Acolumn列の値が2未満の行だけを参照する\n",
    "test[test['Acolumn']<2]"
   ]
  },
  {
   "cell_type": "code",
   "execution_count": null,
   "metadata": {},
   "outputs": [],
   "source": [
    "#Acolumn列（シリーズ型）に対して比較演算を行う\n",
    "test[\"Acolumn\"]<2"
   ]
  },
  {
   "cell_type": "code",
   "execution_count": null,
   "metadata": {},
   "outputs": [],
   "source": [
    "#2つの条件で外れ値の行を特定する\n",
    "df[(df['SNS2'] > 1000) & (df['sales'] < 8500)]"
   ]
  },
  {
   "cell_type": "code",
   "execution_count": null,
   "metadata": {},
   "outputs": [],
   "source": [
    "#特定した行からインデックスのみを取り出す\n",
    "no = df2[(df['SNS2']>1000) & (df['sales'] < 8500)].index\n",
    "no"
   ]
  },
  {
   "cell_type": "code",
   "execution_count": null,
   "metadata": {},
   "outputs": [],
   "source": [
    "#dropメソッドでインデックスが0の行を削除する\n",
    "test.drop(0,axis=0)"
   ]
  },
  {
   "cell_type": "code",
   "execution_count": null,
   "metadata": {},
   "outputs": [],
   "source": [
    "test.drop('Bcolumn' , axis=1)"
   ]
  },
  {
   "cell_type": "code",
   "execution_count": null,
   "metadata": {},
   "outputs": [],
   "source": [
    "#dropメソッドを使って外れ値を削除\n",
    "df3 = df2.drop(no,axis=0)\n",
    "df3.shape"
   ]
  },
  {
   "cell_type": "code",
   "execution_count": null,
   "metadata": {},
   "outputs": [],
   "source": [
    "#特徴量の列の候補\n",
    "col = ['SNS1','SNS2','actor','original']\n",
    "x = df3[col] #特徴量の取り出し\n",
    "\n",
    "t = df3['sales']"
   ]
  },
  {
   "cell_type": "code",
   "execution_count": null,
   "metadata": {},
   "outputs": [],
   "source": [
    "#インデックスが2、列がSNS1のマスの値のみ参照\n",
    "df3.loc[2,'SNS1']"
   ]
  },
  {
   "cell_type": "code",
   "execution_count": null,
   "metadata": {},
   "outputs": [],
   "source": [
    "#特定のデータのみを参照する\n",
    "index = [2,4,6]         #インデックス\n",
    "col = ['SNS1','actor']  #列名\n",
    "\n",
    "df3.loc[index,col]"
   ]
  },
  {
   "cell_type": "code",
   "execution_count": null,
   "metadata": {},
   "outputs": [],
   "source": [
    "#スライス構文で連続した要素を参照する\n",
    "sample = [10,20,30,40]  #リストの作成\n",
    "sample[1:3] #添え字が1以上3未満の要素を取得"
   ]
  },
  {
   "cell_type": "code",
   "execution_count": null,
   "metadata": {},
   "outputs": [],
   "source": [
    "#0行目以上2行目以下、actor列より左の列（actor列含め）\n",
    "df3.loc[0:3,:'actor']"
   ]
  },
  {
   "cell_type": "code",
   "execution_count": null,
   "metadata": {},
   "outputs": [],
   "source": [
    "#スライス構文で特徴量と正解データを取り出す\n",
    "x = df3.loc[:,'SNS1':'original']    #特徴量の取り出し\n",
    "t = df3['sales']    #正解ラベルの取り出し"
   ]
  },
  {
   "cell_type": "code",
   "execution_count": null,
   "metadata": {},
   "outputs": [],
   "source": [
    "#訓練データとテストデータに分類する\n",
    "from sklearn.model_selection import train_test_split\n",
    "x_train,x_test,y_train,y_test = train_test_split(x,t,test_size=0.2,random_state=0)"
   ]
  },
  {
   "cell_type": "code",
   "execution_count": null,
   "metadata": {},
   "outputs": [],
   "source": [
    "#重回帰モデルのLinearRegression関数をインポートする\n",
    "from sklearn.linear_model import LinearRegression"
   ]
  },
  {
   "cell_type": "code",
   "execution_count": null,
   "metadata": {},
   "outputs": [],
   "source": [
    "#LinearRegression関数を使ってモデルを作成する\n",
    "model = LinearRegression()"
   ]
  },
  {
   "cell_type": "code",
   "execution_count": null,
   "metadata": {},
   "outputs": [],
   "source": [
    "#fitメソッドでモデルに学習させる\n",
    "model.fit(x_train,y_train)"
   ]
  },
  {
   "cell_type": "code",
   "execution_count": null,
   "metadata": {},
   "outputs": [],
   "source": [
    "#興行収入を予測する\n",
    "new = [[150,700,300,0]]\n",
    "model.predict(new)"
   ]
  },
  {
   "cell_type": "code",
   "execution_count": null,
   "metadata": {},
   "outputs": [],
   "source": [
    "#scoreメソッドでモデルのscoreを計算\n",
    "model.score(x_test,y_test)"
   ]
  },
  {
   "cell_type": "code",
   "execution_count": null,
   "metadata": {},
   "outputs": [],
   "source": [
    "#MAEを求める\n",
    "#関数のインポート\n",
    "from sklearn.metrics import median_absolute_error\n",
    "\n",
    "pred = model.predict(x_test)\n",
    "\n",
    "#平均絶対誤差の計算\n",
    "median_absolute_error(y_pred=pred,y_true=y_test)"
   ]
  },
  {
   "cell_type": "code",
   "execution_count": null,
   "metadata": {},
   "outputs": [],
   "source": [
    "#scoreメソッド\n",
    "model.score(x_test,y_test)"
   ]
  },
  {
   "cell_type": "code",
   "execution_count": null,
   "metadata": {},
   "outputs": [],
   "source": [
    "#モデルの保存\n",
    "import pickle\n",
    "\n",
    "with open(\"./datafiles/cinema.csv\",\"wb\") as f:\n",
    "    pickle.dump(model,f)"
   ]
  },
  {
   "cell_type": "code",
   "execution_count": null,
   "metadata": {},
   "outputs": [],
   "source": [
    "#係数と切片を確認\n",
    "print(model.coef_)\n",
    "print(model.intercept_)"
   ]
  },
  {
   "cell_type": "code",
   "execution_count": null,
   "metadata": {},
   "outputs": [],
   "source": [
    "#列と係数を表示する\n",
    "tmp = pd.DataFrame(model.coef_)\n",
    "tmp.index = x_train.columns\n",
    "tmp"
   ]
  }
 ],
 "metadata": {
  "kernelspec": {
   "display_name": "Python 3",
   "language": "python",
   "name": "python3"
  },
  "language_info": {
   "codemirror_mode": {
    "name": "ipython",
    "version": 3
   },
   "file_extension": ".py",
   "mimetype": "text/x-python",
   "name": "python",
   "nbconvert_exporter": "python",
   "pygments_lexer": "ipython3",
   "version": "3.10.2"
  },
  "orig_nbformat": 4
 },
 "nbformat": 4,
 "nbformat_minor": 2
}
